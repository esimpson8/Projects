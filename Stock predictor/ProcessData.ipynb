{
 "cells": [
  {
   "cell_type": "code",
   "execution_count": 1,
   "metadata": {},
   "outputs": [],
   "source": [
    "import numpy as np\n",
    "import pickle\n",
    "from sklearn import preprocessing"
   ]
  },
  {
   "cell_type": "code",
   "execution_count": 2,
   "metadata": {},
   "outputs": [],
   "source": [
    "# For testing purposes\n",
    "#with open('RawData/rawdatasm.pkl', 'rb') as f:\n",
    "#        rawdata = pickle.load(f)"
   ]
  },
  {
   "cell_type": "code",
   "execution_count": 4,
   "metadata": {},
   "outputs": [],
   "source": [
    "def process(rawdata, windowsize, windowstep, predictwindowsize):\n",
    "    # Windowsize: Number of days in each training window\n",
    "    # Windowstep: Number of days between each window\n",
    "    # Predictwindowsize: Number of future days to predict for\n",
    "    windows = []\n",
    "    results = []\n",
    "    count = 0\n",
    "    for name, itemarr in rawdata.items():\n",
    "        # Drop items below certain volume threshold\n",
    "        #volthreshold = 5\n",
    "        #avgvolume = 0\n",
    "        #for row in itemarr:\n",
    "        #    avgvolume += row[2]\n",
    "        #avgvolume /= len(itemarr)\n",
    "        #if (avgvolume < volthreshold):\n",
    "            # drop itemarr from data\n",
    "\n",
    "        # Normalize data for each item\n",
    "        #normalize only prices?\n",
    "        scaler = preprocessing.MinMaxScaler(feature_range =(0, 1))\n",
    "        itemarr = scaler.fit_transform(itemarr)\n",
    "        #itemarr = normalize(itemarr, copy=False, return_norm=False, norm=\"l1\")\n",
    "\n",
    "        # obtain regular-sized numpy array from timesteps\n",
    "        while (count + windowsize + predictwindowsize) < len(itemarr):\n",
    "            # windows: 3d array\n",
    "            # results: 2d array\n",
    "            windows.append(itemarr[count:(count + windowsize)])\n",
    "            rows = itemarr[(count + windowsize):(count + windowsize + predictwindowsize)]\n",
    "            results.append(rows[:,1])\n",
    "            count += windowstep\n",
    "        count = 0\n",
    "    windows = np.array(windows)\n",
    "    results = np.array(results)\n",
    "    return windows, results"
   ]
  },
  {
   "cell_type": "code",
   "execution_count": 29,
   "metadata": {},
   "outputs": [],
   "source": [
    "def traintestsplit(data_x, data_y, split):\n",
    "    middle = int(len(data_x) * split)\n",
    "    train_x = data_x[0:middle]\n",
    "    test_x = data_x[middle:len(data_x)]\n",
    "    train_y = data_y[0:middle]\n",
    "    test_y = data_y[middle:len(data_y)]\n",
    "    return train_x, train_y, test_x, test_y"
   ]
  },
  {
   "cell_type": "code",
   "execution_count": null,
   "metadata": {},
   "outputs": [],
   "source": []
  }
 ],
 "metadata": {
  "kernelspec": {
   "display_name": "Python 3",
   "language": "python",
   "name": "python3"
  },
  "language_info": {
   "codemirror_mode": {
    "name": "ipython",
    "version": 3
   },
   "file_extension": ".py",
   "mimetype": "text/x-python",
   "name": "python",
   "nbconvert_exporter": "python",
   "pygments_lexer": "ipython3",
   "version": "3.7.3"
  }
 },
 "nbformat": 4,
 "nbformat_minor": 2
}
