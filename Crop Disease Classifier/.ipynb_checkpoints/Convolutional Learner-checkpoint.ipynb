{
 "cells": [
  {
   "cell_type": "code",
   "execution_count": 6,
   "metadata": {},
   "outputs": [],
   "source": [
    "import keras\n",
    "import tensorflow as tf\n",
    "from keras import models\n",
    "from keras import layers\n",
    "from keras.preprocessing.image import ImageDataGenerator\n",
    "from keras.layers import Dropout\n",
    "from keras.layers import BatchNormalization"
   ]
  },
  {
   "cell_type": "markdown",
   "metadata": {},
   "source": [
    "I start by using keras's inbuilt ImageDataGenerator to deal with the fact that this many data samples cannot fit in memory. This generator gives us a few samples at a time to partially fit on. "
   ]
  },
  {
   "cell_type": "code",
   "execution_count": 7,
   "metadata": {},
   "outputs": [
    {
     "name": "stdout",
     "output_type": "stream",
     "text": [
      "Found 70295 images belonging to 38 classes.\n",
      "Found 17572 images belonging to 38 classes.\n"
     ]
    }
   ],
   "source": [
    "traindir = 'train'\n",
    "validationdir = 'validation'\n",
    "\n",
    "datagen = ImageDataGenerator(rescale=1/255)\n",
    "batch_size=128\n",
    "train_iter = datagen.flow_from_directory(traindir, class_mode='categorical', batch_size=batch_size)\n",
    "val_iter = datagen.flow_from_directory(validationdir, class_mode='categorical', batch_size=batch_size)\n",
    "\n",
    "train_total=train_iter.n"
   ]
  },
  {
   "cell_type": "markdown",
   "metadata": {},
   "source": [
    "Insert comment here"
   ]
  },
  {
   "cell_type": "code",
   "execution_count": 15,
   "metadata": {},
   "outputs": [],
   "source": [
    "model = models.Sequential([\n",
    "    layers.Conv2D(38, (3,3), activation='relu', input_shape=(256, 256, 3)),\n",
    "    layers.MaxPooling2D(2, 2),\n",
    "    layers.Conv2D(64, (3,3), activation='relu'),\n",
    "    layers.MaxPooling2D(2,2),\n",
    "    layers.Conv2D(64, (3,3), activation='relu'),\n",
    "    layers.MaxPooling2D(2,2),\n",
    "    layers.Flatten(),\n",
    "    layers.Dense(128, activation='relu'),\n",
    "    layers.Dense(38, activation='softmax')\n",
    "])\n",
    "model.compile(optimizer='rmsprop',\n",
    "                loss='categorical_crossentropy',\n",
    "                metrics=['accuracy'])"
   ]
  },
  {
   "cell_type": "markdown",
   "metadata": {},
   "source": [
    "The best accuracy obtained with the standard model was 94%; with dropout, this decreased to 92.6%; with dropout and batch normalization, it decreased even further to 88%, and took 10 epochs to achieve instead of 5. I think this last model is likely the most robust to overfitting, but have decided to display the standard model nonetheless. "
   ]
  },
  {
   "cell_type": "code",
   "execution_count": 16,
   "metadata": {},
   "outputs": [
    {
     "name": "stdout",
     "output_type": "stream",
     "text": [
      "Epoch 1/5\n",
      "549/549 [==============================] - 162s 295ms/step - loss: 1.6602 - acc: 0.5516 - val_loss: 0.5324 - val_acc: 0.8359\n",
      "Epoch 2/5\n",
      "549/549 [==============================] - 167s 304ms/step - loss: 0.4353 - acc: 0.8641 - val_loss: 0.4358 - val_acc: 0.8797\n",
      "Epoch 3/5\n",
      "549/549 [==============================] - 159s 290ms/step - loss: 0.2008 - acc: 0.9359 - val_loss: 0.8625 - val_acc: 0.7984\n",
      "Epoch 4/5\n",
      "549/549 [==============================] - 163s 297ms/step - loss: 0.1179 - acc: 0.9639 - val_loss: 0.3294 - val_acc: 0.9234\n",
      "Epoch 5/5\n",
      "549/549 [==============================] - 162s 295ms/step - loss: 0.0916 - acc: 0.9742 - val_loss: 0.3592 - val_acc: 0.9234\n"
     ]
    },
    {
     "data": {
      "text/plain": [
       "<keras.callbacks.History at 0x15668102cf8>"
      ]
     },
     "execution_count": 16,
     "metadata": {},
     "output_type": "execute_result"
    }
   ],
   "source": [
    "model.fit_generator(train_iter, steps_per_epoch=int(train_total/batch_size), epochs=5, \n",
    "                    validation_steps=5, validation_data=val_iter)"
   ]
  },
  {
   "cell_type": "code",
   "execution_count": null,
   "metadata": {},
   "outputs": [],
   "source": []
  }
 ],
 "metadata": {
  "kernelspec": {
   "display_name": "Python 3",
   "language": "python",
   "name": "python3"
  },
  "language_info": {
   "codemirror_mode": {
    "name": "ipython",
    "version": 3
   },
   "file_extension": ".py",
   "mimetype": "text/x-python",
   "name": "python",
   "nbconvert_exporter": "python",
   "pygments_lexer": "ipython3",
   "version": "3.6.4"
  }
 },
 "nbformat": 4,
 "nbformat_minor": 2
}
