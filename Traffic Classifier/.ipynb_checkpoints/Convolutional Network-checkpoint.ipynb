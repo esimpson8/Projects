{
 "cells": [
  {
   "cell_type": "code",
   "execution_count": 6,
   "metadata": {},
   "outputs": [],
   "source": [
    "import keras\n",
    "import tensorflow as tf\n",
    "import numpy as np\n",
    "import os\n",
    "import cv2\n",
    "from keras import models\n",
    "from keras import layers\n",
    "\n",
    "traindir = 'trafficnet_dataset_v1\\\\train'\n",
    "testdir = 'trafficnet_dataset_v1\\\\test'\n",
    "\n",
    "trainData = []\n",
    "rawTrainLabels = []\n",
    "testData = []\n",
    "rawTestLabels = []\n",
    "\n",
    "for subdir, dirs, files in os.walk(traindir):\n",
    "    for file in files:\n",
    "        # need this line to avoid thumbs.db that windows creates\n",
    "        if (file.split('.')[1] == 'jpg'):\n",
    "            image = cv2.imread(os.path.join(subdir, file))\n",
    "            image = cv2.resize(image, (260, 300))\n",
    "            trainData.append(image)\n",
    "            label = subdir.split('\\\\')[2]\n",
    "            rawTrainLabels.append(label)\n",
    "\n",
    "trainData = np.asarray(trainData)\n",
    "rawTrainLabels = np.asarray(rawTrainLabels)"
   ]
  },
  {
   "cell_type": "code",
   "execution_count": 7,
   "metadata": {},
   "outputs": [],
   "source": [
    "for subdir, dirs, files in os.walk(testdir):\n",
    "    for file in files:\n",
    "        # need this line to avoid thumbs.db that windows creates\n",
    "        if (file.split('.')[1] == 'jpg'):\n",
    "            image = cv2.imread(os.path.join(subdir, file))\n",
    "            image = cv2.resize(image, (260, 300))\n",
    "            testData.append(image)\n",
    "            label = subdir.split('\\\\')[2]\n",
    "            rawTestLabels.append(label)\n",
    "\n",
    "testData = np.asarray(testData)\n",
    "rawTestLabels = np.asarray(rawTestLabels)"
   ]
  },
  {
   "cell_type": "code",
   "execution_count": 8,
   "metadata": {},
   "outputs": [],
   "source": [
    "from sklearn.preprocessing import LabelBinarizer\n",
    "encoder = LabelBinarizer()\n",
    "trainLabels = encoder.fit_transform(rawTrainLabels)\n",
    "testLabels = encoder.fit_transform(rawTestLabels)"
   ]
  },
  {
   "cell_type": "code",
   "execution_count": null,
   "metadata": {},
   "outputs": [],
   "source": [
    "trainData = trainData.reshape(3600, 300, 260, 3)\n",
    "trainData = trainData.astype('float32') / 255\n",
    "\n",
    "testData = testData.reshape(800, 300, 260, 3)\n",
    "testData = testData.astype('float32') / 255"
   ]
  },
  {
   "cell_type": "markdown",
   "metadata": {},
   "source": [
    "Everything to this point is as it was in the dense example - shaping the data to properly fit the network, although this time the first layer requires a tensor with 4 dimensions, so that modification has been made. "
   ]
  },
  {
   "cell_type": "code",
   "execution_count": 15,
   "metadata": {},
   "outputs": [],
   "source": [
    "model = models.Sequential()\n",
    "model.add(layers.Conv2D(64, (3, 3), activation='relu', input_shape=(300, 260, 3)))\n",
    "model.add(layers.MaxPooling2D((2, 2)))\n",
    "model.add(layers.Conv2D(32, (3, 3), activation='relu'))\n",
    "model.add(layers.MaxPooling2D((2, 2)))\n",
    "model.add(layers.Conv2D(32, (3, 3), activation='relu'))\n",
    "model.add(layers.Flatten())\n",
    "model.add(layers.Dense(64, activation='relu'))\n",
    "model.add(layers.Dense(4, activation='softmax'))"
   ]
  },
  {
   "cell_type": "markdown",
   "metadata": {},
   "source": [
    "Surprisingly, the network seems to do slightly better with more units in the conv layers as well as in the dense layers - when it was just dense layers, the optimal number of units seemed to be 16, but here higher performance is seen with 32-64 layers. "
   ]
  },
  {
   "cell_type": "code",
   "execution_count": 16,
   "metadata": {},
   "outputs": [
    {
     "name": "stdout",
     "output_type": "stream",
     "text": [
      "Epoch 1/10\n",
      "3600/3600 [==============================] - 434s 121ms/step - loss: 1.4104 - acc: 0.3611\n",
      "Epoch 2/10\n",
      "3600/3600 [==============================] - 420s 117ms/step - loss: 1.1915 - acc: 0.4947\n",
      "Epoch 3/10\n",
      "3600/3600 [==============================] - 401s 111ms/step - loss: 1.0129 - acc: 0.5967\n",
      "Epoch 4/10\n",
      "3600/3600 [==============================] - 386s 107ms/step - loss: 0.9333 - acc: 0.6556\n",
      "Epoch 5/10\n",
      "3600/3600 [==============================] - 431s 120ms/step - loss: 0.7837 - acc: 0.6983\n",
      "Epoch 6/10\n",
      "3600/3600 [==============================] - 387s 107ms/step - loss: 0.7353 - acc: 0.7242\n",
      "Epoch 7/10\n",
      "3600/3600 [==============================] - 376s 105ms/step - loss: 0.6263 - acc: 0.7819\n",
      "Epoch 8/10\n",
      "3600/3600 [==============================] - 380s 106ms/step - loss: 0.5108 - acc: 0.8153\n",
      "Epoch 9/10\n",
      "3600/3600 [==============================] - 385s 107ms/step - loss: 0.3918 - acc: 0.8647\n",
      "Epoch 10/10\n",
      "3600/3600 [==============================] - 388s 108ms/step - loss: 0.3147 - acc: 0.8928\n"
     ]
    },
    {
     "data": {
      "text/plain": [
       "<keras.callbacks.History at 0x1d780ac54a8>"
      ]
     },
     "execution_count": 16,
     "metadata": {},
     "output_type": "execute_result"
    }
   ],
   "source": [
    "model.compile(optimizer='rmsprop',\n",
    "              loss='categorical_crossentropy',\n",
    "              metrics=['accuracy'])\n",
    "model.fit(trainData, trainLabels, epochs=5, batch_size=64)"
   ]
  },
  {
   "cell_type": "markdown",
   "metadata": {},
   "source": [
    "A lower batch size does lead to noticeably better performance, although it seems to potentially lead to overfitting earlier, but it also dramatically slows down the runtime. Thus, I have left the batch size at 64 - a compromise intended to get decent performance but still run relatively fast. "
   ]
  },
  {
   "cell_type": "code",
   "execution_count": 17,
   "metadata": {},
   "outputs": [
    {
     "name": "stdout",
     "output_type": "stream",
     "text": [
      "800/800 [==============================] - 19s 24ms/step\n",
      "test_acc: 0.6425\n"
     ]
    }
   ],
   "source": [
    "test_loss, test_acc = model.evaluate(testData, testLabels)\n",
    "print('test_acc:', test_acc)"
   ]
  },
  {
   "cell_type": "code",
   "execution_count": null,
   "metadata": {},
   "outputs": [],
   "source": []
  }
 ],
 "metadata": {
  "kernelspec": {
   "display_name": "Python 3",
   "language": "python",
   "name": "python3"
  },
  "language_info": {
   "codemirror_mode": {
    "name": "ipython",
    "version": 3
   },
   "file_extension": ".py",
   "mimetype": "text/x-python",
   "name": "python",
   "nbconvert_exporter": "python",
   "pygments_lexer": "ipython3",
   "version": "3.6.4"
  }
 },
 "nbformat": 4,
 "nbformat_minor": 2
}
