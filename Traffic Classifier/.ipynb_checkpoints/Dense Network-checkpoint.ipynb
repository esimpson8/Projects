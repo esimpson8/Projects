{
 "cells": [
  {
   "cell_type": "code",
   "execution_count": 2,
   "metadata": {},
   "outputs": [
    {
     "name": "stderr",
     "output_type": "stream",
     "text": [
      "Using TensorFlow backend.\n"
     ]
    }
   ],
   "source": [
    "import keras\n",
    "import tensorflow as tf\n",
    "import numpy as np\n",
    "import os\n",
    "import cv2\n",
    "from keras import models\n",
    "from keras import layers\n",
    "\n",
    "traindir = 'trafficnet_dataset_v1\\\\train'\n",
    "testdir = 'trafficnet_dataset_v1\\\\test'\n",
    "\n",
    "trainData = []\n",
    "rawTrainLabels = []\n",
    "testData = []\n",
    "rawTestLabels = []\n",
    "\n",
    "for subdir, dirs, files in os.walk(traindir):\n",
    "    for file in files:\n",
    "        # need this line to avoid thumbs.db that windows creates\n",
    "        if (file.split('.')[1] == 'jpg'):\n",
    "            image = cv2.imread(os.path.join(subdir, file))\n",
    "            image = cv2.resize(image, (260, 300))\n",
    "            trainData.append(image)\n",
    "            label = subdir.split('\\\\')[2]\n",
    "            rawTrainLabels.append(label)\n",
    "\n",
    "trainData = np.asarray(trainData)\n",
    "rawTrainLabels = np.asarray(rawTrainLabels)"
   ]
  },
  {
   "cell_type": "code",
   "execution_count": 3,
   "metadata": {},
   "outputs": [],
   "source": [
    "for subdir, dirs, files in os.walk(testdir):\n",
    "    for file in files:\n",
    "        # need this line to avoid thumbs.db that windows creates\n",
    "        if (file.split('.')[1] == 'jpg'):\n",
    "            image = cv2.imread(os.path.join(subdir, file))\n",
    "            image = cv2.resize(image, (260, 300))\n",
    "            testData.append(image)\n",
    "            label = subdir.split('\\\\')[2]\n",
    "            rawTestLabels.append(label)\n",
    "\n",
    "testData = np.asarray(testData)\n",
    "rawTestLabels = np.asarray(rawTestLabels)"
   ]
  },
  {
   "cell_type": "markdown",
   "metadata": {},
   "source": [
    "First we load all the training and test data and labels into numpy arrays, resizing so that all the inputs to the network can be the same size. "
   ]
  },
  {
   "cell_type": "code",
   "execution_count": 4,
   "metadata": {},
   "outputs": [],
   "source": [
    "from sklearn.preprocessing import LabelBinarizer\n",
    "encoder = LabelBinarizer()\n",
    "trainLabels = encoder.fit_transform(rawTrainLabels)\n",
    "testLabels = encoder.fit_transform(rawTestLabels)"
   ]
  },
  {
   "cell_type": "markdown",
   "metadata": {},
   "source": [
    "We then use a one-hot encoding to transform the labels from strings into a format that our network can understand. "
   ]
  },
  {
   "cell_type": "code",
   "execution_count": null,
   "metadata": {},
   "outputs": [],
   "source": [
    "trainData = trainData.reshape(3600, 300*260*3)\n",
    "trainData = trainData.astype('float32') / 255\n",
    "\n",
    "testData = testData.reshape(800, 300*260*3)\n",
    "testData = testData.astype('float32') / 255"
   ]
  },
  {
   "cell_type": "markdown",
   "metadata": {},
   "source": [
    "We reshape the data so that the network can accept it, and normalize it to values between 0 and 1 so that it is more easily interpretable. "
   ]
  },
  {
   "cell_type": "code",
   "execution_count": 118,
   "metadata": {},
   "outputs": [],
   "source": [
    "network = models.Sequential()\n",
    "network.add(layers.Dense(16, activation='relu', input_shape=(300 * 260 * 3,)))\n",
    "network.add(layers.Dense(16, activation='relu'))\n",
    "network.add(layers.Dense(16, activation='relu'))\n",
    "network.add(layers.Dense(4, activation='softmax'))\n",
    "network.compile(optimizer='rmsprop',\n",
    "                loss='categorical_crossentropy',\n",
    "                metrics=['accuracy'])"
   ]
  },
  {
   "cell_type": "markdown",
   "metadata": {},
   "source": [
    "I found that 3 layers with 16 hidden units each provided the best test result, which was still mediocre. Perhaps this data set would benefit from data augmentation, which I will perform with the convolutional network. "
   ]
  },
  {
   "cell_type": "code",
   "execution_count": 119,
   "metadata": {},
   "outputs": [
    {
     "name": "stdout",
     "output_type": "stream",
     "text": [
      "Epoch 1/10\n",
      "3600/3600 [==============================] - 17s 5ms/step - loss: 1.3264 - acc: 0.3475\n",
      "Epoch 2/10\n",
      "3600/3600 [==============================] - 16s 5ms/step - loss: 1.2257 - acc: 0.4358\n",
      "Epoch 3/10\n",
      "3600/3600 [==============================] - 16s 4ms/step - loss: 1.1698 - acc: 0.4636\n",
      "Epoch 4/10\n",
      "3600/3600 [==============================] - 16s 5ms/step - loss: 1.1439 - acc: 0.4872\n",
      "Epoch 5/10\n",
      "3600/3600 [==============================] - 16s 5ms/step - loss: 1.1110 - acc: 0.5233\n",
      "Epoch 6/10\n",
      "3600/3600 [==============================] - 16s 5ms/step - loss: 1.0748 - acc: 0.5369\n",
      "Epoch 7/10\n",
      "3600/3600 [==============================] - 16s 5ms/step - loss: 1.0436 - acc: 0.5672\n",
      "Epoch 8/10\n",
      "3600/3600 [==============================] - 16s 5ms/step - loss: 1.0251 - acc: 0.5664\n",
      "Epoch 9/10\n",
      "3600/3600 [==============================] - 16s 4ms/step - loss: 1.0034 - acc: 0.5825\n",
      "Epoch 10/10\n",
      "3600/3600 [==============================] - 17s 5ms/step - loss: 0.9824 - acc: 0.5911\n"
     ]
    },
    {
     "data": {
      "text/plain": [
       "<keras.callbacks.History at 0x263355d8978>"
      ]
     },
     "execution_count": 119,
     "metadata": {},
     "output_type": "execute_result"
    }
   ],
   "source": [
    "network.fit(trainData, trainLabels, epochs=10, batch_size=16)"
   ]
  },
  {
   "cell_type": "code",
   "execution_count": 120,
   "metadata": {},
   "outputs": [
    {
     "name": "stdout",
     "output_type": "stream",
     "text": [
      "800/800 [==============================] - 1s 1ms/step\n",
      "test_acc: 0.5525\n"
     ]
    }
   ],
   "source": [
    "test_loss, test_acc = network.evaluate(testData, testLabels)\n",
    "print('test_acc:', test_acc)"
   ]
  },
  {
   "cell_type": "code",
   "execution_count": null,
   "metadata": {},
   "outputs": [],
   "source": []
  }
 ],
 "metadata": {
  "kernelspec": {
   "display_name": "Python 3",
   "language": "python",
   "name": "python3"
  },
  "language_info": {
   "codemirror_mode": {
    "name": "ipython",
    "version": 3
   },
   "file_extension": ".py",
   "mimetype": "text/x-python",
   "name": "python",
   "nbconvert_exporter": "python",
   "pygments_lexer": "ipython3",
   "version": "3.6.4"
  }
 },
 "nbformat": 4,
 "nbformat_minor": 2
}
